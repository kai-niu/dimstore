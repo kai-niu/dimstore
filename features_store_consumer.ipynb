{
 "cells": [
  {
   "cell_type": "code",
   "execution_count": 1,
   "metadata": {},
   "outputs": [],
   "source": [
    "from pyspark import SparkContext, SQLContext\n",
    "#from pyspark.sql import Window, DataFrame\n",
    "\n",
    "import numpy as np\n",
    "import pandas as pd\n",
    "import dill\n",
    "import codecs"
   ]
  },
  {
   "cell_type": "code",
   "execution_count": 2,
   "metadata": {},
   "outputs": [],
   "source": [
    "sc=SparkContext(appName='jlg')\n",
    "sqlcontext=SQLContext(sc)"
   ]
  },
  {
   "cell_type": "code",
   "execution_count": 3,
   "metadata": {},
   "outputs": [
    {
     "name": "stdout",
     "output_type": "stream",
     "text": [
      "{'context': 'pyspark', 'writer': {'type': 'default', 'params': {'path': '.'}}, 'reader': {'type': 'default', 'params': {'path': '.'}}, 'serializer': {'type': 'default', 'params': {}}, 'deserializer': {'type': 'default', 'params': {}}}\n"
     ]
    }
   ],
   "source": [
    "from src.core.store import Store\n",
    "store = Store('store_config.json')"
   ]
  },
  {
   "cell_type": "code",
   "execution_count": 4,
   "metadata": {},
   "outputs": [],
   "source": [
    "p = store.checkout(1,{})\n",
    "df = p({'context':sqlcontext,'inputCol':'X1','outputCol':'F1','alpha':2.0})"
   ]
  },
  {
   "cell_type": "code",
   "execution_count": 5,
   "metadata": {},
   "outputs": [
    {
     "name": "stdout",
     "output_type": "stream",
     "text": [
      "root\n",
      " |-- X1: double (nullable = true)\n",
      " |-- X2: double (nullable = true)\n",
      " |-- X3: double (nullable = true)\n",
      " |-- X4: double (nullable = true)\n",
      " |-- Label: double (nullable = true)\n",
      " |-- F1: double (nullable = true)\n",
      "\n"
     ]
    }
   ],
   "source": [
    "df.printSchema()"
   ]
  },
  {
   "cell_type": "code",
   "execution_count": 8,
   "metadata": {},
   "outputs": [
    {
     "name": "stdout",
     "output_type": "stream",
     "text": [
      "+------------------+-------------------+-------------------+-------------------+------------------+------------------+\n",
      "|                X1|                 X2|                 X3|                 X4|             Label|                F1|\n",
      "+------------------+-------------------+-------------------+-------------------+------------------+------------------+\n",
      "|0.9248276435188963| 0.4973960158795029|0.07837683188091737| 0.4271468002023703|  4.42313981452001|1.8496552870377927|\n",
      "|0.8355376129489942|0.12076390740998422|0.19096577671381354| 0.8524567711983632|3.3885191801639154|1.6710752258979884|\n",
      "|0.4830652541171879| 0.7974962059381018| 0.1810084201749539| 0.4729400097304529|4.9910721820671435|0.9661305082343759|\n",
      "|0.8459850586590909|0.03620972258095334|0.16149964773060632|0.17583461683551016| 2.335642919938718|1.6919701173181818|\n",
      "|0.0493902674261516| 0.4490904508291028|0.46276578176672445|0.23180747173555016|3.0524813734377134|0.0987805348523032|\n",
      "+------------------+-------------------+-------------------+-------------------+------------------+------------------+\n",
      "only showing top 5 rows\n",
      "\n"
     ]
    }
   ],
   "source": [
    "df.show(5)"
   ]
  },
  {
   "cell_type": "code",
   "execution_count": null,
   "metadata": {},
   "outputs": [],
   "source": []
  }
 ],
 "metadata": {
  "kernelspec": {
   "display_name": "Python 3",
   "language": "python",
   "name": "python3"
  },
  "language_info": {
   "codemirror_mode": {
    "name": "ipython",
    "version": 3
   },
   "file_extension": ".py",
   "mimetype": "text/x-python",
   "name": "python",
   "nbconvert_exporter": "python",
   "pygments_lexer": "ipython3",
   "version": "3.7.2"
  }
 },
 "nbformat": 4,
 "nbformat_minor": 2
}
