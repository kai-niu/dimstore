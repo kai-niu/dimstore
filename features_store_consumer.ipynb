{
 "cells": [
  {
   "cell_type": "code",
   "execution_count": 2,
   "metadata": {},
   "outputs": [],
   "source": [
    "from pyspark import SparkContext, SQLContext\n",
    "#from pyspark.sql import Window, DataFrame\n",
    "\n",
    "%load_ext autoreload\n",
    "%autoreload 2"
   ]
  },
  {
   "cell_type": "code",
   "execution_count": 3,
   "metadata": {},
   "outputs": [],
   "source": [
    "sc=SparkContext(appName='jlg')\n",
    "sqlcontext=SQLContext(sc)"
   ]
  },
  {
   "cell_type": "code",
   "execution_count": 6,
   "metadata": {},
   "outputs": [
    {
     "name": "stdout",
     "output_type": "stream",
     "text": [
      "== Kai's Feature Store Information ==\n",
      "- Meta Data Manager: default\n",
      "- Supported Meta Data managers:  ['flat file meta manager (default)']\n",
      "- Supported Persistors:  ['flat file persistor (default)']\n",
      "- Supported Serializers:  ['dill Serializer (default)']\n",
      "== Feature Catalog ==\n",
      "foo_scaler \t e1c95611-cf7d-4097-9c41-4d564f8b0483 \t 04, Jun 2019 \t Kai Niu\n"
     ]
    }
   ],
   "source": [
    "from src.core.store import Store\n",
    "from src.core.feature_meta import Feature_Meta\n",
    "\n",
    "store = Store('store_config.json')\n",
    "store.info()\n",
    "store.catalog()\n"
   ]
  },
  {
   "cell_type": "code",
   "execution_count": 7,
   "metadata": {},
   "outputs": [],
   "source": [
    "params = {'context':sqlcontext,'alpha':2.0}\n",
    "uid = 'e1c95611-cf7d-4097-9c41-4d564f8b0483'\n",
    "\n",
    "df = store.checkout(uid, params)"
   ]
  },
  {
   "cell_type": "code",
   "execution_count": 8,
   "metadata": {},
   "outputs": [
    {
     "name": "stdout",
     "output_type": "stream",
     "text": [
      "root\n",
      " |-- X1: double (nullable = true)\n",
      " |-- X2: double (nullable = true)\n",
      " |-- X3: double (nullable = true)\n",
      " |-- X4: double (nullable = true)\n",
      " |-- Label: double (nullable = true)\n",
      " |-- F1: double (nullable = true)\n",
      "\n"
     ]
    }
   ],
   "source": [
    "df.printSchema()"
   ]
  },
  {
   "cell_type": "code",
   "execution_count": 9,
   "metadata": {},
   "outputs": [
    {
     "name": "stdout",
     "output_type": "stream",
     "text": [
      "+-------------------+-------------------+-------------------+------------------+------------------+-------------------+\n",
      "|                 X1|                 X2|                 X3|                X4|             Label|                 F1|\n",
      "+-------------------+-------------------+-------------------+------------------+------------------+-------------------+\n",
      "|0.17417849792799078|0.43009799536538307| 0.8422974270679776|0.6044842735723016| 4.357828105025771|0.34835699585598157|\n",
      "| 0.1585147214988274|0.19787563334191083|0.39240791717944856| 0.504527825099862|2.3978756358240574| 0.3170294429976548|\n",
      "|  0.162428980461798| 0.6369621354799332| 0.9080660307106092|0.9221890530493648| 5.611027617313912|  0.324857960923596|\n",
      "+-------------------+-------------------+-------------------+------------------+------------------+-------------------+\n",
      "only showing top 3 rows\n",
      "\n"
     ]
    }
   ],
   "source": [
    "df.show(3)"
   ]
  },
  {
   "cell_type": "code",
   "execution_count": null,
   "metadata": {},
   "outputs": [],
   "source": []
  }
 ],
 "metadata": {
  "kernelspec": {
   "display_name": "Python 3",
   "language": "python",
   "name": "python3"
  },
  "language_info": {
   "codemirror_mode": {
    "name": "ipython",
    "version": 3
   },
   "file_extension": ".py",
   "mimetype": "text/x-python",
   "name": "python",
   "nbconvert_exporter": "python",
   "pygments_lexer": "ipython3",
   "version": "3.7.2"
  }
 },
 "nbformat": 4,
 "nbformat_minor": 2
}
