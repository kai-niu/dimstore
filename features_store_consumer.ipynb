{
 "cells": [
  {
   "cell_type": "code",
   "execution_count": 1,
   "metadata": {},
   "outputs": [],
   "source": [
    "from pyspark import SparkContext, SQLContext\n",
    "#from pyspark.sql import Window, DataFrame\n",
    "\n",
    "import numpy as np\n",
    "import pandas as pd\n",
    "import dill\n",
    "import codecs"
   ]
  },
  {
   "cell_type": "code",
   "execution_count": 2,
   "metadata": {},
   "outputs": [],
   "source": [
    "sc=SparkContext(appName='jlg')\n",
    "sqlcontext=SQLContext(sc)"
   ]
  },
  {
   "cell_type": "code",
   "execution_count": 12,
   "metadata": {},
   "outputs": [
    {
     "name": "stdout",
     "output_type": "stream",
     "text": [
      "The autoreload extension is already loaded. To reload it, use:\n",
      "  %reload_ext autoreload\n",
      "== Store Initialized: ==\n",
      "{\n",
      "  \"store_name\": \"Kai's Feature Store\",\n",
      "  \"root_dir\": \"/Users/kai/repository/nebula/storage\",\n",
      "  \"book_keeper\": {\n",
      "    \"type\": \"default\",\n",
      "    \"params\": {\n",
      "      \"folder_name\": \"catalog\",\n",
      "      \"file_name\": \"catalog.nbl\"\n",
      "    }\n",
      "  },\n",
      "  \"writers\": {\n",
      "    \"default\": {\n",
      "      \"folder_name\": \"features\"\n",
      "    }\n",
      "  },\n",
      "  \"readers\": {\n",
      "    \"default\": {\n",
      "      \"folder_name\": \"features\"\n",
      "    }\n",
      "  },\n",
      "  \"serializers\": {\n",
      "    \"default\": {}\n",
      "  },\n",
      "  \"deserializers\": {\n",
      "    \"default\": {}\n",
      "  }\n",
      "}\n",
      "== Feature Catalog ==\n",
      "foo_scaler \t 046cc688-6857-4c3b-b50c-443db103eae1\n",
      "foo_scaler \t 81c1b2e8-fc4d-4f1e-b606-b534ddc8dcdc\n"
     ]
    }
   ],
   "source": [
    "%load_ext autoreload\n",
    "%autoreload 2\n",
    "\n",
    "from src.core.store import Store\n",
    "from src.core.feature import Feature\n",
    "\n",
    "store = Store('store_config.json')\n",
    "store.catalog()"
   ]
  },
  {
   "cell_type": "code",
   "execution_count": 7,
   "metadata": {},
   "outputs": [],
   "source": [
    "params = {'context':sqlcontext,'alpha':2.0}\n",
    "uid = '81c1b2e8-fc4d-4f1e-b606-b534ddc8dcdc'\n",
    "\n",
    "df = store.checkout(uid, params)"
   ]
  },
  {
   "cell_type": "code",
   "execution_count": 8,
   "metadata": {},
   "outputs": [
    {
     "name": "stdout",
     "output_type": "stream",
     "text": [
      "root\n",
      " |-- X1: double (nullable = true)\n",
      " |-- X2: double (nullable = true)\n",
      " |-- X3: double (nullable = true)\n",
      " |-- X4: double (nullable = true)\n",
      " |-- Label: double (nullable = true)\n",
      " |-- F1: double (nullable = true)\n",
      "\n"
     ]
    }
   ],
   "source": [
    "df.printSchema()"
   ]
  },
  {
   "cell_type": "code",
   "execution_count": 9,
   "metadata": {},
   "outputs": [
    {
     "name": "stdout",
     "output_type": "stream",
     "text": [
      "+------------------+-------------------+-------------------+-------------------+-----------------+------------------+\n",
      "|                X1|                 X2|                 X3|                 X4|            Label|                F1|\n",
      "+------------------+-------------------+-------------------+-------------------+-----------------+------------------+\n",
      "|0.5205162467747544|0.37892804297373994|0.24542089328813999| 0.4846753984143245|3.532261850435073|1.0410324935495088|\n",
      "|  0.71781738252966| 0.8611885956954083|0.19367754242737611|  0.623370484839035| 5.89111471753474|  1.43563476505932|\n",
      "|0.1516094297235261| 0.9886550399625831| 0.6741350311317537| 0.7634411717429604|6.369550253303853|0.3032188594470522|\n",
      "|0.6650589318917749| 0.9345007492864892| 0.7694777876551938|0.22692208146915405|6.833998517709048|1.3301178637835498|\n",
      "|0.6933133498352892| 0.9020107922484703| 0.8321117333942878|   0.52579363720328|7.184686972656315|1.3866266996705785|\n",
      "+------------------+-------------------+-------------------+-------------------+-----------------+------------------+\n",
      "only showing top 5 rows\n",
      "\n"
     ]
    }
   ],
   "source": [
    "df.show(5)"
   ]
  },
  {
   "cell_type": "code",
   "execution_count": null,
   "metadata": {},
   "outputs": [],
   "source": []
  }
 ],
 "metadata": {
  "kernelspec": {
   "display_name": "Python 3",
   "language": "python",
   "name": "python3"
  },
  "language_info": {
   "codemirror_mode": {
    "name": "ipython",
    "version": 3
   },
   "file_extension": ".py",
   "mimetype": "text/x-python",
   "name": "python",
   "nbconvert_exporter": "python",
   "pygments_lexer": "ipython3",
   "version": "3.7.2"
  }
 },
 "nbformat": 4,
 "nbformat_minor": 2
}
