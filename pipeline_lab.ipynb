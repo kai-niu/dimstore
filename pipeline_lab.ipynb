{
 "cells": [
  {
   "cell_type": "code",
   "execution_count": 1,
   "metadata": {},
   "outputs": [],
   "source": [
    "from pyspark import SparkContext, SQLContext\n",
    "from pyspark.sql.functions import udf, lit, col, when, avg, countDistinct, year, month\n",
    "from pyspark.sql import Window, DataFrame\n",
    "from pyspark.sql.types import IntegerType\n",
    "\n",
    "from pyspark.ml.pipeline import Pipeline, Transformer\n",
    "import numpy as np\n",
    "import pandas as pd\n",
    "import pickle\n",
    "import dill\n",
    "import codecs\n",
    "\n",
    "import importlib"
   ]
  },
  {
   "cell_type": "code",
   "execution_count": 2,
   "metadata": {},
   "outputs": [],
   "source": [
    "sc=SparkContext(appName='jlg')\n",
    "sqlcontext=SQLContext(sc)"
   ]
  },
  {
   "cell_type": "code",
   "execution_count": 3,
   "metadata": {},
   "outputs": [
    {
     "name": "stdout",
     "output_type": "stream",
     "text": [
      "+------------------+-------------------+-------------------+-------------------+-----------------+\n",
      "|                F1|                 F2|                 F3|                 F4|            Label|\n",
      "+------------------+-------------------+-------------------+-------------------+-----------------+\n",
      "|0.5205162467747544|0.37892804297373994|0.24542089328813999| 0.4846753984143245|3.532261850435073|\n",
      "|  0.71781738252966| 0.8611885956954083|0.19367754242737611|  0.623370484839035| 5.89111471753474|\n",
      "|0.1516094297235261| 0.9886550399625831| 0.6741350311317537| 0.7634411717429604|6.369550253303853|\n",
      "|0.6650589318917749| 0.9345007492864892| 0.7694777876551938|0.22692208146915405|6.833998517709048|\n",
      "|0.6933133498352892| 0.9020107922484703| 0.8321117333942878|   0.52579363720328|7.184686972656315|\n",
      "+------------------+-------------------+-------------------+-------------------+-----------------+\n",
      "only showing top 5 rows\n",
      "\n"
     ]
    }
   ],
   "source": [
    "# create dumb pyspark dataframe\n",
    "\n",
    "X1 = np.random.rand(1000).reshape(-1,1)\n",
    "X2 = np.random.rand(1000).reshape(-1,1)\n",
    "X3 = np.random.rand(1000).reshape(-1,1)\n",
    "X4 = np.random.rand(1000).reshape(-1,1)\n",
    "Y = X1*2 + X2*4 + X3*2 + X4*1\n",
    "\n",
    "m = np.hstack([X1,X2,X3,X4,Y])\n",
    "dataset = pd.DataFrame(m)\n",
    "dataset.columns = ['X1','X2','X3','X4','Label']\n",
    "\n",
    "dataset.to_csv('data/foo.csv', index=False)\n",
    "\n",
    "df = sqlcontext.createDataFrame(dataset,schema=[\"F1\", \"F2\", \"F3\", \"F4\", \"Label\"])\n",
    "\n",
    "df.show(5)"
   ]
  },
  {
   "cell_type": "code",
   "execution_count": 4,
   "metadata": {},
   "outputs": [],
   "source": [
    "# create custome transfomer\n",
    "\n",
    "def Linear_Scaler(params):\n",
    "    \"\"\"\n",
    "    A custom Transformer which scale the value up\n",
    "    \"\"\"\n",
    "    foo = udf(lambda x: x*2)\n",
    "    \n",
    "    context = params['context']\n",
    "    df = context.read.csv('data/foo.csv', header='true', inferSchema = 'true')\n",
    "    \n",
    "    alpha = params['alpha'] \n",
    "    inputCol = params['inputCol'] \n",
    "    outputCol = params['outputCol']\n",
    "    \n",
    "    # do transform\n",
    "    tmp = df.withColumn(outputCol, df[inputCol]*alpha)\n",
    "    return tmp\n",
    "\n",
    "    "
   ]
  },
  {
   "cell_type": "code",
   "execution_count": 5,
   "metadata": {},
   "outputs": [
    {
     "name": "stdout",
     "output_type": "stream",
     "text": [
      "+------------------+-------------------+-------------------+------------------+-----------------+------------------+\n",
      "|                X1|                 X2|                 X3|                X4|            Label|                F1|\n",
      "+------------------+-------------------+-------------------+------------------+-----------------+------------------+\n",
      "|0.5205162467747544|0.37892804297373994|0.24542089328813999|0.4846753984143245|3.532261850435073|1.0410324935495088|\n",
      "|  0.71781738252966| 0.8611885956954083|0.19367754242737611| 0.623370484839035| 5.89111471753474|  1.43563476505932|\n",
      "|0.1516094297235261| 0.9886550399625831| 0.6741350311317537|0.7634411717429604|6.369550253303853|0.3032188594470522|\n",
      "+------------------+-------------------+-------------------+------------------+-----------------+------------------+\n",
      "only showing top 3 rows\n",
      "\n"
     ]
    }
   ],
   "source": [
    "foo = Linear_Scaler({'context':sqlcontext,'inputCol':'X1','outputCol':'F1','alpha':2.0})\n",
    "foo.show(3)\n"
   ]
  },
  {
   "cell_type": "code",
   "execution_count": 69,
   "metadata": {},
   "outputs": [
    {
     "name": "stdout",
     "output_type": "stream",
     "text": [
      "The autoreload extension is already loaded. To reload it, use:\n",
      "  %reload_ext autoreload\n",
      "== Store Initialized: ==\n",
      "{'store_name': \"Kai's Feature Store\", 'root_dir': '/Users/kai/repository/nebula/storage', 'book_keeper': {'type': 'default', 'params': {'folder_name': 'catalog', 'file_name': 'catalog.nbl'}}, 'writers': {'default': {'folder_name': 'features'}}, 'readers': {'default': {'folder_name': 'features'}}, 'serializers': {'default': {}}, 'deserializers': {'default': {}}}\n"
     ]
    }
   ],
   "source": [
    "%load_ext autoreload\n",
    "%autoreload 2\n",
    "\n",
    "from src.core.store import Store\n",
    "from src.core.feature import Feature\n",
    "\n",
    "store = Store('store_config.json')\n",
    "f = Feature('foo_scaler')"
   ]
  },
  {
   "cell_type": "code",
   "execution_count": 70,
   "metadata": {},
   "outputs": [],
   "source": [
    "store.register(f, Linear_Scaler)"
   ]
  },
  {
   "cell_type": "code",
   "execution_count": 71,
   "metadata": {},
   "outputs": [
    {
     "name": "stdout",
     "output_type": "stream",
     "text": [
      "foo_scaler \t 046cc688-6857-4c3b-b50c-443db103eae1\n"
     ]
    }
   ],
   "source": [
    "store.list_features()"
   ]
  },
  {
   "cell_type": "code",
   "execution_count": 77,
   "metadata": {},
   "outputs": [],
   "source": [
    "p = store.checkout('046cc688-6857-4c3b-b50c-443db103eae1')"
   ]
  },
  {
   "cell_type": "code",
   "execution_count": 78,
   "metadata": {},
   "outputs": [
    {
     "name": "stdout",
     "output_type": "stream",
     "text": [
      "+------------------+-------------------+-------------------+------------------+-----------------+------------------+\n",
      "|                X1|                 X2|                 X3|                X4|            Label|                F1|\n",
      "+------------------+-------------------+-------------------+------------------+-----------------+------------------+\n",
      "|0.5205162467747544|0.37892804297373994|0.24542089328813999|0.4846753984143245|3.532261850435073|1.0410324935495088|\n",
      "|  0.71781738252966| 0.8611885956954083|0.19367754242737611| 0.623370484839035| 5.89111471753474|  1.43563476505932|\n",
      "|0.1516094297235261| 0.9886550399625831| 0.6741350311317537|0.7634411717429604|6.369550253303853|0.3032188594470522|\n",
      "+------------------+-------------------+-------------------+------------------+-----------------+------------------+\n",
      "only showing top 3 rows\n",
      "\n"
     ]
    }
   ],
   "source": [
    "p({'context':sqlcontext,'inputCol':'X1','outputCol':'F1','alpha':2.0}).show(3)"
   ]
  },
  {
   "cell_type": "code",
   "execution_count": 13,
   "metadata": {},
   "outputs": [
    {
     "data": {
      "text/plain": [
       "'default'"
      ]
     },
     "execution_count": 13,
     "metadata": {},
     "output_type": "execute_result"
    }
   ],
   "source": [
    "store.config['deserializer']['type']"
   ]
  },
  {
   "cell_type": "code",
   "execution_count": null,
   "metadata": {},
   "outputs": [],
   "source": []
  }
 ],
 "metadata": {
  "kernelspec": {
   "display_name": "Python 3",
   "language": "python",
   "name": "python3"
  },
  "language_info": {
   "codemirror_mode": {
    "name": "ipython",
    "version": 3
   },
   "file_extension": ".py",
   "mimetype": "text/x-python",
   "name": "python",
   "nbconvert_exporter": "python",
   "pygments_lexer": "ipython3",
   "version": "3.7.2"
  }
 },
 "nbformat": 4,
 "nbformat_minor": 2
}
