{
 "cells": [
  {
   "cell_type": "code",
   "execution_count": 1,
   "metadata": {},
   "outputs": [],
   "source": [
    "from pyspark import SparkContext, SQLContext\n",
    "from pyspark.sql.functions import udf, lit, col, when, avg, countDistinct, year, month\n",
    "from pyspark.sql import Window, DataFrame\n",
    "from pyspark.sql.types import IntegerType\n",
    "\n",
    "from pyspark.ml.pipeline import Pipeline, Transformer\n",
    "import numpy as np\n",
    "import pandas as pd\n",
    "import pickle\n",
    "import dill\n",
    "import codecs\n",
    "\n",
    "import importlib"
   ]
  },
  {
   "cell_type": "code",
   "execution_count": 2,
   "metadata": {},
   "outputs": [],
   "source": [
    "sc=SparkContext(appName='jlg')\n",
    "sqlcontext=SQLContext(sc)"
   ]
  },
  {
   "cell_type": "code",
   "execution_count": 3,
   "metadata": {},
   "outputs": [
    {
     "name": "stdout",
     "output_type": "stream",
     "text": [
      "+------------------+-------------------+--------------------+-------------------+------------------+\n",
      "|                F1|                 F2|                  F3|                 F4|             Label|\n",
      "+------------------+-------------------+--------------------+-------------------+------------------+\n",
      "|0.9943645490262756| 0.6834474262246089|  0.5276763172545255| 0.4465342567501357| 6.224405694210173|\n",
      "|0.5551040310893406| 0.3839117920128954|  0.2068978016004276|0.24723021334849005|3.3068810467796075|\n",
      "|0.5478218322588008|0.25393080263636647|  0.9272027097868556|  0.401311778116914| 4.367084072753693|\n",
      "|  0.90395138218402| 0.7284667067775239| 0.43171005199817203| 0.6062572439653663| 6.191446939439846|\n",
      "|0.6005850013522184| 0.6746304560460489|0.042127785495332026| 0.3324227018184124| 4.316370099697709|\n",
      "+------------------+-------------------+--------------------+-------------------+------------------+\n",
      "only showing top 5 rows\n",
      "\n"
     ]
    }
   ],
   "source": [
    "# create dumb pyspark dataframe\n",
    "\n",
    "X1 = np.random.rand(1000).reshape(-1,1)\n",
    "X2 = np.random.rand(1000).reshape(-1,1)\n",
    "X3 = np.random.rand(1000).reshape(-1,1)\n",
    "X4 = np.random.rand(1000).reshape(-1,1)\n",
    "Y = X1*2 + X2*4 + X3*2 + X4*1\n",
    "\n",
    "m = np.hstack([X1,X2,X3,X4,Y])\n",
    "dataset = pd.DataFrame(m)\n",
    "dataset.columns = ['X1','X2','X3','X4','Label']\n",
    "\n",
    "dataset.to_csv('data/foo.csv', index=False)\n",
    "\n",
    "df = sqlcontext.createDataFrame(dataset,schema=[\"F1\", \"F2\", \"F3\", \"F4\", \"Label\"])\n",
    "\n",
    "df.show(5)"
   ]
  },
  {
   "cell_type": "code",
   "execution_count": 4,
   "metadata": {},
   "outputs": [],
   "source": [
    "# create custome transfomer\n",
    "\n",
    "def Linear_Scaler(params):\n",
    "    \"\"\"\n",
    "    A custom Transformer which scale the value up\n",
    "    \"\"\"\n",
    "    foo = udf(lambda x: x*2)\n",
    "    \n",
    "    context = params['context']\n",
    "    df = context.read.csv('data/foo.csv', header='true', inferSchema = 'true')\n",
    "    \n",
    "    alpha = params['alpha'] \n",
    "    inputCol = 'X1'\n",
    "    outputCol = 'F1'\n",
    "    \n",
    "    # do transform\n",
    "    tmp = df.withColumn(outputCol, df[inputCol]*alpha)\n",
    "    return tmp\n",
    "\n",
    "    "
   ]
  },
  {
   "cell_type": "code",
   "execution_count": 5,
   "metadata": {},
   "outputs": [
    {
     "name": "stdout",
     "output_type": "stream",
     "text": [
      "+------------------+-------------------+------------------+-------------------+------------------+------------------+\n",
      "|                X1|                 X2|                X3|                 X4|             Label|                F1|\n",
      "+------------------+-------------------+------------------+-------------------+------------------+------------------+\n",
      "|0.9943645490262756| 0.6834474262246089|0.5276763172545255| 0.4465342567501357| 6.224405694210173|1.9887290980525512|\n",
      "|0.5551040310893406| 0.3839117920128954|0.2068978016004276|0.24723021334849005|3.3068810467796075|1.1102080621786812|\n",
      "|0.5478218322588008|0.25393080263636647|0.9272027097868556|  0.401311778116914| 4.367084072753693|1.0956436645176015|\n",
      "+------------------+-------------------+------------------+-------------------+------------------+------------------+\n",
      "only showing top 3 rows\n",
      "\n"
     ]
    }
   ],
   "source": [
    "foo = Linear_Scaler({'context':sqlcontext,'alpha':2.0})\n",
    "foo.show(3)\n"
   ]
  },
  {
   "cell_type": "code",
   "execution_count": 43,
   "metadata": {},
   "outputs": [
    {
     "name": "stdout",
     "output_type": "stream",
     "text": [
      "The autoreload extension is already loaded. To reload it, use:\n",
      "  %reload_ext autoreload\n",
      "== Store Initialized: ==\n",
      "{\n",
      "  \"store_name\": \"Kai's Feature Store\",\n",
      "  \"root_dir\": \"/Users/kai/repository/nebula/storage\",\n",
      "  \"book_keeper\": {\n",
      "    \"type\": \"default\",\n",
      "    \"params\": {\n",
      "      \"folder_name\": \"catalog\",\n",
      "      \"file_name\": \"catalog.nbl\"\n",
      "    }\n",
      "  },\n",
      "  \"persistors\": {\n",
      "    \"default\": {\n",
      "      \"folder_name\": \"features\"\n",
      "    }\n",
      "  },\n",
      "  \"writers\": {\n",
      "    \"default\": {\n",
      "      \"folder_name\": \"features\"\n",
      "    }\n",
      "  },\n",
      "  \"readers\": {\n",
      "    \"default\": {\n",
      "      \"folder_name\": \"features\"\n",
      "    }\n",
      "  },\n",
      "  \"serializers\": {\n",
      "    \"default\": {}\n",
      "  },\n",
      "  \"deserializers\": {\n",
      "    \"default\": {}\n",
      "  }\n",
      "}\n"
     ]
    }
   ],
   "source": [
    "%load_ext autoreload\n",
    "%autoreload 2\n",
    "\n",
    "from src.core.store import Store\n",
    "from src.core.feature import Feature\n",
    "\n",
    "store = Store('store_config.json')\n",
    "f = Feature('foo_scaler')\n",
    "f.author = 'Kai Niu'\n",
    "f.params = {'context':'The pyspark context, must provided.','alpha':'the scaler coef, optional.'}\n",
    "f.comment = 'scale the data by the coef alpha'"
   ]
  },
  {
   "cell_type": "code",
   "execution_count": 46,
   "metadata": {},
   "outputs": [
    {
     "name": "stdout",
     "output_type": "stream",
     "text": [
      "/Users/kai/repository/nebula/storage/features\n",
      "b'\\x80\\x03cdill._dill\\n_create_function\\nq\\x00(cdill._dill\\n_load_type\\nq\\x01X\\x08\\x00\\x00\\x00CodeTypeq\\x02\\x85q\\x03Rq\\x04(K\\x01K\\x00K\\x08K\\x05KCCNt\\x00d\\x01d\\x02\\x84\\x00\\x83\\x01}\\x01|\\x00d\\x03\\x19\\x00}\\x02|\\x02j\\x01j\\x02d\\x04d\\x05d\\x05d\\x06\\x8d\\x03}\\x03|\\x00d\\x07\\x19\\x00}\\x04d\\x08}\\x05d\\t}\\x06|\\x03\\xa0\\x03|\\x06|\\x03|\\x05\\x19\\x00|\\x04\\x14\\x00\\xa1\\x02}\\x07|\\x07S\\x00q\\x05(X7\\x00\\x00\\x00\\n    A custom Transformer which scale the value up\\n    q\\x06h\\x04(K\\x01K\\x00K\\x01K\\x02KSC\\x08|\\x00d\\x01\\x14\\x00S\\x00q\\x07NK\\x02\\x86q\\x08)X\\x01\\x00\\x00\\x00xq\\t\\x85q\\nX\\x1e\\x00\\x00\\x00<ipython-input-4-831427609ff2>q\\x0bX\\x08\\x00\\x00\\x00<lambda>q\\x0cK\\x07C\\x00q\\r))tq\\x0eRq\\x0fX\\x1f\\x00\\x00\\x00Linear_Scaler.<locals>.<lambda>q\\x10X\\x07\\x00\\x00\\x00contextq\\x11X\\x0c\\x00\\x00\\x00data/foo.csvq\\x12X\\x04\\x00\\x00\\x00trueq\\x13X\\x06\\x00\\x00\\x00headerq\\x14X\\x0b\\x00\\x00\\x00inferSchemaq\\x15\\x86q\\x16X\\x05\\x00\\x00\\x00alphaq\\x17X\\x02\\x00\\x00\\x00X1q\\x18X\\x02\\x00\\x00\\x00F1q\\x19tq\\x1a(X\\x03\\x00\\x00\\x00udfq\\x1bX\\x04\\x00\\x00\\x00readq\\x1cX\\x03\\x00\\x00\\x00csvq\\x1dX\\n\\x00\\x00\\x00withColumnq\\x1etq\\x1f(X\\x06\\x00\\x00\\x00paramsq X\\x03\\x00\\x00\\x00fooq!h\\x11X\\x02\\x00\\x00\\x00dfq\"h\\x17X\\x08\\x00\\x00\\x00inputColq#X\\t\\x00\\x00\\x00outputColq$X\\x03\\x00\\x00\\x00tmpq%tq&h\\x0bX\\r\\x00\\x00\\x00Linear_Scalerq\\'K\\x03C\\x10\\x00\\x04\\x0c\\x02\\x08\\x01\\x12\\x02\\x08\\x01\\x04\\x01\\x04\\x03\\x14\\x01q())tq)Rq*}q+(X\\x03\\x00\\x00\\x00udfq,cpyspark.sql.functions\\nudf\\nq-X\\x03\\x00\\x00\\x00strq.h\\x01X\\x03\\x00\\x00\\x00strq/\\x85q0Rq1X\\n\\x00\\x00\\x00isinstanceq2cdill._dill\\n_get_attr\\nq3X\\x08\\x00\\x00\\x00builtinsq4X\\n\\x00\\x00\\x00isinstanceq5\\x86q6Rq7X\\x03\\x00\\x00\\x00lenq8h3h4X\\x03\\x00\\x00\\x00lenq9\\x86q:Rq;X\\n\\x00\\x00\\x00ValueErrorq<h\\x01X\\n\\x00\\x00\\x00ValueErrorq=\\x85q>Rq?uh\\'NN}q@tqARqB.'\n"
     ]
    }
   ],
   "source": [
    "store.register(f, Linear_Scaler)"
   ]
  },
  {
   "cell_type": "code",
   "execution_count": 47,
   "metadata": {},
   "outputs": [
    {
     "name": "stdout",
     "output_type": "stream",
     "text": [
      "== Feature Catalog ==\n",
      "foo_scaler \t c5576cd0-6b2e-4e70-80dc-964da57a05c8 \t 04, Jun 2019 \t Kai Niu\n",
      "foo_scaler \t 4996b0eb-377e-4148-8254-176c94d56966 \t 04, Jun 2019 \t Kai Niu\n",
      "foo_scaler \t ff216f0e-9966-40e6-857c-a1a95167dc8d \t 04, Jun 2019 \t Kai Niu\n",
      "foo_scaler \t 9d988bd6-74ab-43b5-9770-ba4ffc13a3f6 \t 04, Jun 2019 \t Kai Niu\n",
      "foo_scaler \t 144a7a5d-add6-4620-b5a1-d33856d8e357 \t 04, Jun 2019 \t Kai Niu\n"
     ]
    }
   ],
   "source": [
    "store.catalog()"
   ]
  },
  {
   "cell_type": "code",
   "execution_count": 48,
   "metadata": {},
   "outputs": [
    {
     "name": "stdout",
     "output_type": "stream",
     "text": [
      "== Feature Detail ==\n",
      "foo_scaler \t ff216f0e-9966-40e6-857c-a1a95167dc8d \t 04, Jun 2019 \t Kai Niu\n",
      "params: \n",
      "     context: The pyspark context, must provided.\n",
      "     alpha: the scaler coef, optional.\n",
      "comments: scale the data by the coef alpha\n"
     ]
    }
   ],
   "source": [
    "store.feature_info('ff216f0e-9966-40e6-857c-a1a95167dc8d')"
   ]
  },
  {
   "cell_type": "code",
   "execution_count": 54,
   "metadata": {},
   "outputs": [
    {
     "name": "stdout",
     "output_type": "stream",
     "text": [
      "/Users/kai/repository/nebula/storage/features ff216f0e-9966-40e6-857c-a1a95167dc8d.dill\n",
      "ff216f0e-9966-40e6-857c-a1a95167dc8d\n"
     ]
    }
   ],
   "source": [
    "params = {'context':sqlcontext,'alpha':2.0}\n",
    "uid = 'ff216f0e-9966-40e6-857c-a1a95167dc8d'\n",
    "\n",
    "p = store.checkout(uid, params)"
   ]
  },
  {
   "cell_type": "code",
   "execution_count": 55,
   "metadata": {},
   "outputs": [
    {
     "name": "stdout",
     "output_type": "stream",
     "text": [
      "+------------------+-------------------+------------------+-------------------+------------------+------------------+\n",
      "|                X1|                 X2|                X3|                 X4|             Label|                F1|\n",
      "+------------------+-------------------+------------------+-------------------+------------------+------------------+\n",
      "|0.9943645490262756| 0.6834474262246089|0.5276763172545255| 0.4465342567501357| 6.224405694210173|1.9887290980525512|\n",
      "|0.5551040310893406| 0.3839117920128954|0.2068978016004276|0.24723021334849005|3.3068810467796075|1.1102080621786812|\n",
      "|0.5478218322588008|0.25393080263636647|0.9272027097868556|  0.401311778116914| 4.367084072753693|1.0956436645176015|\n",
      "+------------------+-------------------+------------------+-------------------+------------------+------------------+\n",
      "only showing top 3 rows\n",
      "\n"
     ]
    }
   ],
   "source": [
    "p.show(3)"
   ]
  },
  {
   "cell_type": "code",
   "execution_count": null,
   "metadata": {},
   "outputs": [],
   "source": [
    "store.config['deserializer']['type']"
   ]
  },
  {
   "cell_type": "code",
   "execution_count": null,
   "metadata": {},
   "outputs": [],
   "source": []
  }
 ],
 "metadata": {
  "kernelspec": {
   "display_name": "Python 3",
   "language": "python",
   "name": "python3"
  },
  "language_info": {
   "codemirror_mode": {
    "name": "ipython",
    "version": 3
   },
   "file_extension": ".py",
   "mimetype": "text/x-python",
   "name": "python",
   "nbconvert_exporter": "python",
   "pygments_lexer": "ipython3",
   "version": "3.7.2"
  }
 },
 "nbformat": 4,
 "nbformat_minor": 2
}
