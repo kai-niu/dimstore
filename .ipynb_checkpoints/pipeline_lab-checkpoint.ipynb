{
 "cells": [
  {
   "cell_type": "code",
   "execution_count": 1,
   "metadata": {},
   "outputs": [],
   "source": [
    "from pyspark import SparkContext, SQLContext\n",
    "from pyspark.sql.functions import udf, lit, col, when, avg, countDistinct, year, month\n",
    "from pyspark.sql import Window, DataFrame\n",
    "from pyspark.sql.types import IntegerType\n",
    "\n",
    "from pyspark.ml.pipeline import Pipeline, Transformer\n",
    "import numpy as np\n",
    "import pandas as pd\n",
    "import pickle\n",
    "import dill\n",
    "import codecs\n",
    "\n",
    "import importlib"
   ]
  },
  {
   "cell_type": "code",
   "execution_count": 2,
   "metadata": {},
   "outputs": [],
   "source": [
    "sc=SparkContext(appName='jlg')\n",
    "sqlcontext=SQLContext(sc)"
   ]
  },
  {
   "cell_type": "code",
   "execution_count": 3,
   "metadata": {},
   "outputs": [
    {
     "name": "stdout",
     "output_type": "stream",
     "text": [
      "+------------------+-------------------+------------------+-------------------+------------------+\n",
      "|                F1|                 F2|                F3|                 F4|             Label|\n",
      "+------------------+-------------------+------------------+-------------------+------------------+\n",
      "|0.8967915949935993|0.48857634602983346|0.9930970019900044|0.36509123575027436| 6.099173813836815|\n",
      "|0.7002861160198564|0.12482464080733668|0.6807920245256778|0.24837805938937274|3.5098329037097877|\n",
      "|0.9030704650845118| 0.8125513347182771|0.8898339952806147|0.31644151104721996| 7.152455770650581|\n",
      "|0.5358329732842825| 0.4600028728566212|0.5693566761473927| 0.8971842733166885| 4.947575063606524|\n",
      "|0.9889381971542561|0.08711258407498157|0.8267066259521924|0.47429332050981987| 4.454033303022643|\n",
      "+------------------+-------------------+------------------+-------------------+------------------+\n",
      "only showing top 5 rows\n",
      "\n"
     ]
    }
   ],
   "source": [
    "# create dumb pyspark dataframe\n",
    "\n",
    "X1 = np.random.rand(1000).reshape(-1,1)\n",
    "X2 = np.random.rand(1000).reshape(-1,1)\n",
    "X3 = np.random.rand(1000).reshape(-1,1)\n",
    "X4 = np.random.rand(1000).reshape(-1,1)\n",
    "Y = X1*2 + X2*4 + X3*2 + X4*1\n",
    "\n",
    "m = np.hstack([X1,X2,X3,X4,Y])\n",
    "dataset = pd.DataFrame(m)\n",
    "dataset.columns = ['X1','X2','X3','X4','Label']\n",
    "\n",
    "dataset.to_csv('data/foo.csv', index=False)\n",
    "\n",
    "df = sqlcontext.createDataFrame(dataset,schema=[\"F1\", \"F2\", \"F3\", \"F4\", \"Label\"])\n",
    "\n",
    "df.show(5)"
   ]
  },
  {
   "cell_type": "code",
   "execution_count": 4,
   "metadata": {},
   "outputs": [],
   "source": [
    "# create custome transfomer\n",
    "\n",
    "def Linear_Scaler(df, params):\n",
    "    \"\"\"\n",
    "    A custom Transformer which scale the value up\n",
    "    \"\"\"\n",
    "    alpha = params['alpha'] \n",
    "    inputCol = params['inputCol'] \n",
    "    outputCol = params['outputCol']\n",
    "    \n",
    "    # do transform\n",
    "    tmp = df.withColumn(outputCol, df[inputCol]*alpha)\n",
    "    return tmp\n",
    "\n",
    "    \n",
    "def Linear_Shifter(df, params):\n",
    "    \"\"\"\n",
    "    A custom Transformer which scale the value up\n",
    "    \"\"\"\n",
    "    val = params['val'] \n",
    "    inputCol = params['inputCol'] \n",
    "    outputCol = params['outputCol']\n",
    "    \n",
    "    # do transform\n",
    "    tmp = df.withColumn(outputCol, df[inputCol]-val)\n",
    "    return tmp"
   ]
  },
  {
   "cell_type": "code",
   "execution_count": 5,
   "metadata": {},
   "outputs": [
    {
     "name": "stdout",
     "output_type": "stream",
     "text": [
      "+------------------+-------------------+------------------+-------------------+------------------+------------------+\n",
      "|                F1|                 F2|                F3|                 F4|             Label|              F1_2|\n",
      "+------------------+-------------------+------------------+-------------------+------------------+------------------+\n",
      "|0.8967915949935993|0.48857634602983346|0.9930970019900044|0.36509123575027436| 6.099173813836815|1.7935831899871986|\n",
      "|0.7002861160198564|0.12482464080733668|0.6807920245256778|0.24837805938937274|3.5098329037097877|1.4005722320397127|\n",
      "|0.9030704650845118| 0.8125513347182771|0.8898339952806147|0.31644151104721996| 7.152455770650581|1.8061409301690237|\n",
      "+------------------+-------------------+------------------+-------------------+------------------+------------------+\n",
      "only showing top 3 rows\n",
      "\n",
      "+------------------+-------------------+------------------+-------------------+------------------+------------------+--------------------+\n",
      "|                F1|                 F2|                F3|                 F4|             Label|              F1_2|                F1_3|\n",
      "+------------------+-------------------+------------------+-------------------+------------------+------------------+--------------------+\n",
      "|0.8967915949935993|0.48857634602983346|0.9930970019900044|0.36509123575027436| 6.099173813836815|1.7935831899871986|-0.10320840500640072|\n",
      "|0.7002861160198564|0.12482464080733668|0.6807920245256778|0.24837805938937274|3.5098329037097877|1.4005722320397127|-0.29971388398014365|\n",
      "|0.9030704650845118| 0.8125513347182771|0.8898339952806147|0.31644151104721996| 7.152455770650581|1.8061409301690237|-0.09692953491548817|\n",
      "+------------------+-------------------+------------------+-------------------+------------------+------------------+--------------------+\n",
      "only showing top 3 rows\n",
      "\n"
     ]
    }
   ],
   "source": [
    "def feature_f1(params):\n",
    "    sc=SparkContext()\n",
    "    sqlcontext=SQLContext(sc)"
   ]
  },
  {
   "cell_type": "code",
   "execution_count": 15,
   "metadata": {},
   "outputs": [],
   "source": [
    "from core.store import *\n"
   ]
  },
  {
   "cell_type": "code",
   "execution_count": 16,
   "metadata": {},
   "outputs": [],
   "source": [
    "register(Linear_Scaler, {})"
   ]
  },
  {
   "cell_type": "code",
   "execution_count": 18,
   "metadata": {},
   "outputs": [
    {
     "ename": "NameError",
     "evalue": "name 'checkouts' is not defined",
     "output_type": "error",
     "traceback": [
      "\u001b[0;31m---------------------------------------------------------------------------\u001b[0m",
      "\u001b[0;31mNameError\u001b[0m                                 Traceback (most recent call last)",
      "\u001b[0;32m<ipython-input-18-287ac272b061>\u001b[0m in \u001b[0;36m<module>\u001b[0;34m\u001b[0m\n\u001b[0;32m----> 1\u001b[0;31m \u001b[0mp\u001b[0m \u001b[0;34m=\u001b[0m \u001b[0mcheckouts\u001b[0m\u001b[0;34m(\u001b[0m\u001b[0;36m1\u001b[0m\u001b[0;34m,\u001b[0m\u001b[0;34m{\u001b[0m\u001b[0;34m}\u001b[0m\u001b[0;34m)\u001b[0m\u001b[0;34m\u001b[0m\u001b[0;34m\u001b[0m\u001b[0m\n\u001b[0m",
      "\u001b[0;31mNameError\u001b[0m: name 'checkouts' is not defined"
     ]
    }
   ],
   "source": [
    "p = checkouts(1,{})"
   ]
  },
  {
   "cell_type": "code",
   "execution_count": 14,
   "metadata": {},
   "outputs": [
    {
     "name": "stdout",
     "output_type": "stream",
     "text": [
      "+------------------+-------------------+------------------+-------------------+------------------+------------------+\n",
      "|                F1|                 F2|                F3|                 F4|             Label|              F1_2|\n",
      "+------------------+-------------------+------------------+-------------------+------------------+------------------+\n",
      "|0.8967915949935993|0.48857634602983346|0.9930970019900044|0.36509123575027436| 6.099173813836815|1.7935831899871986|\n",
      "|0.7002861160198564|0.12482464080733668|0.6807920245256778|0.24837805938937274|3.5098329037097877|1.4005722320397127|\n",
      "|0.9030704650845118| 0.8125513347182771|0.8898339952806147|0.31644151104721996| 7.152455770650581|1.8061409301690237|\n",
      "+------------------+-------------------+------------------+-------------------+------------------+------------------+\n",
      "only showing top 3 rows\n",
      "\n"
     ]
    }
   ],
   "source": [
    "p(df, {'inputCol':'F1','outputCol':'F1_2','alpha':2.0}).show(3)"
   ]
  },
  {
   "cell_type": "code",
   "execution_count": null,
   "metadata": {},
   "outputs": [],
   "source": []
  }
 ],
 "metadata": {
  "kernelspec": {
   "display_name": "Python 3",
   "language": "python",
   "name": "python3"
  },
  "language_info": {
   "codemirror_mode": {
    "name": "ipython",
    "version": 3
   },
   "file_extension": ".py",
   "mimetype": "text/x-python",
   "name": "python",
   "nbconvert_exporter": "python",
   "pygments_lexer": "ipython3",
   "version": "3.7.2"
  }
 },
 "nbformat": 4,
 "nbformat_minor": 2
}
