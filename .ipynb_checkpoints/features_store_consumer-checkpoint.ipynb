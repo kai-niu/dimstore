{
 "cells": [
  {
   "cell_type": "code",
   "execution_count": 1,
   "metadata": {},
   "outputs": [],
   "source": [
    "from pyspark import SparkContext, SQLContext\n",
    "#from pyspark.sql import Window, DataFrame\n",
    "\n",
    "import numpy as np\n",
    "import pandas as pd\n",
    "import dill\n",
    "import codecs"
   ]
  },
  {
   "cell_type": "code",
   "execution_count": 2,
   "metadata": {},
   "outputs": [],
   "source": [
    "sc=SparkContext(appName='jlg')\n",
    "sqlcontext=SQLContext(sc)"
   ]
  },
  {
   "cell_type": "code",
   "execution_count": 3,
   "metadata": {},
   "outputs": [
    {
     "name": "stdout",
     "output_type": "stream",
     "text": [
      "{'context': 'pyspark', 'writer': {'type': 'default', 'params': {'path': '.'}}, 'reader': {'type': 'default', 'params': {'path': '.'}}, 'serializer': {'type': 'default', 'params': {}}, 'deserializer': {'type': 'default', 'params': {}}}\n"
     ]
    }
   ],
   "source": [
    "from core.store import Store\n",
    "store = Store('store_config.json')"
   ]
  },
  {
   "cell_type": "code",
   "execution_count": 4,
   "metadata": {},
   "outputs": [],
   "source": [
    "p = store.checkout(1,{})\n",
    "df = p({'context':sqlcontext,'inputCol':'X1','outputCol':'F1','alpha':2.0})"
   ]
  },
  {
   "cell_type": "code",
   "execution_count": 5,
   "metadata": {},
   "outputs": [
    {
     "name": "stdout",
     "output_type": "stream",
     "text": [
      "root\n",
      " |-- X1: double (nullable = true)\n",
      " |-- X2: double (nullable = true)\n",
      " |-- X3: double (nullable = true)\n",
      " |-- X4: double (nullable = true)\n",
      " |-- Label: double (nullable = true)\n",
      " |-- F1: double (nullable = true)\n",
      "\n"
     ]
    }
   ],
   "source": [
    "df.printSchema()"
   ]
  },
  {
   "cell_type": "code",
   "execution_count": null,
   "metadata": {},
   "outputs": [],
   "source": []
  }
 ],
 "metadata": {
  "kernelspec": {
   "display_name": "Python 3",
   "language": "python",
   "name": "python3"
  },
  "language_info": {
   "codemirror_mode": {
    "name": "ipython",
    "version": 3
   },
   "file_extension": ".py",
   "mimetype": "text/x-python",
   "name": "python",
   "nbconvert_exporter": "python",
   "pygments_lexer": "ipython3",
   "version": "3.7.2"
  }
 },
 "nbformat": 4,
 "nbformat_minor": 2
}
